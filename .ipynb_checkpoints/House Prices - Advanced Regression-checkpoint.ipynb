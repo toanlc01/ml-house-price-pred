{
 "cells": [
  {
   "cell_type": "markdown",
   "id": "4a51d98c",
   "metadata": {},
   "source": [
    "**Name:** Julian Le"
   ]
  },
  {
   "cell_type": "markdown",
   "id": "dff168c5",
   "metadata": {},
   "source": [
    "**Kaggle Dataset:** https://www.kaggle.com/competitions/house-prices-advanced-regression-techniques/data"
   ]
  },
  {
   "cell_type": "markdown",
   "id": "cbb7dd99",
   "metadata": {},
   "source": [
    "1. Import the libraries"
   ]
  },
  {
   "cell_type": "code",
   "execution_count": 2,
   "id": "8c9998d1",
   "metadata": {},
   "outputs": [],
   "source": [
    "# Importing the Libraries\n",
    "import numpy as np\n",
    "import pandas as pd\n",
    "import matplotlib.pyplot as plt"
   ]
  },
  {
   "cell_type": "markdown",
   "id": "c9697f73",
   "metadata": {},
   "source": [
    "2. Import the dataset"
   ]
  },
  {
   "cell_type": "code",
   "execution_count": 3,
   "id": "150c469a",
   "metadata": {},
   "outputs": [],
   "source": [
    "# load dataset \n",
    "df_train = pd.read_csv('test.csv')  \n",
    "\n",
    "df_test = pd.read_csv('train.csv')  "
   ]
  },
  {
   "cell_type": "code",
   "execution_count": null,
   "id": "8b34f716",
   "metadata": {},
   "outputs": [],
   "source": []
  }
 ],
 "metadata": {
  "kernelspec": {
   "display_name": "Python 3 (ipykernel)",
   "language": "python",
   "name": "python3"
  },
  "language_info": {
   "codemirror_mode": {
    "name": "ipython",
    "version": 3
   },
   "file_extension": ".py",
   "mimetype": "text/x-python",
   "name": "python",
   "nbconvert_exporter": "python",
   "pygments_lexer": "ipython3",
   "version": "3.9.13"
  }
 },
 "nbformat": 4,
 "nbformat_minor": 5
}
