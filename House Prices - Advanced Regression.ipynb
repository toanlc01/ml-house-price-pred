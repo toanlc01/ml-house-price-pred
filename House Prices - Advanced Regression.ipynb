{
 "cells": [
  {
   "cell_type": "markdown",
   "id": "4a51d98c",
   "metadata": {},
   "source": [
    "**Name:** Julian Le"
   ]
  },
  {
   "cell_type": "markdown",
   "id": "dff168c5",
   "metadata": {},
   "source": [
    "**Kaggle Dataset:** https://www.kaggle.com/competitions/house-prices-advanced-regression-techniques/data"
   ]
  },
  {
   "cell_type": "markdown",
   "id": "cbb7dd99",
   "metadata": {},
   "source": [
    "1. Import the libraries"
   ]
  },
  {
   "cell_type": "code",
   "execution_count": 279,
   "id": "8c9998d1",
   "metadata": {},
   "outputs": [],
   "source": [
    "# Importing the Libraries\n",
    "import numpy as np\n",
    "import pandas as pd\n",
    "import matplotlib.pyplot as plt"
   ]
  },
  {
   "cell_type": "markdown",
   "id": "c9697f73",
   "metadata": {},
   "source": [
    "2. Import the dataset"
   ]
  },
  {
   "cell_type": "code",
   "execution_count": 280,
   "id": "150c469a",
   "metadata": {},
   "outputs": [],
   "source": [
    "# load dataset \n",
    "df_train = pd.read_csv('train.csv')  \n",
    "df_test = pd.read_csv('test.csv')  "
   ]
  },
  {
   "cell_type": "code",
   "execution_count": 281,
   "id": "916990b7",
   "metadata": {},
   "outputs": [
    {
     "name": "stdout",
     "output_type": "stream",
     "text": [
      "(1460, 81)\n",
      "(1459, 80)\n"
     ]
    }
   ],
   "source": [
    "print(df_train.shape)\n",
    "print(df_test.shape)"
   ]
  },
  {
   "cell_type": "code",
   "execution_count": 282,
   "id": "5f08d647",
   "metadata": {},
   "outputs": [
    {
     "data": {
      "text/html": [
       "<div>\n",
       "<style scoped>\n",
       "    .dataframe tbody tr th:only-of-type {\n",
       "        vertical-align: middle;\n",
       "    }\n",
       "\n",
       "    .dataframe tbody tr th {\n",
       "        vertical-align: top;\n",
       "    }\n",
       "\n",
       "    .dataframe thead th {\n",
       "        text-align: right;\n",
       "    }\n",
       "</style>\n",
       "<table border=\"1\" class=\"dataframe\">\n",
       "  <thead>\n",
       "    <tr style=\"text-align: right;\">\n",
       "      <th></th>\n",
       "      <th>Id</th>\n",
       "      <th>MSSubClass</th>\n",
       "      <th>MSZoning</th>\n",
       "      <th>LotFrontage</th>\n",
       "      <th>LotArea</th>\n",
       "      <th>Street</th>\n",
       "      <th>Alley</th>\n",
       "      <th>LotShape</th>\n",
       "      <th>LandContour</th>\n",
       "      <th>Utilities</th>\n",
       "      <th>...</th>\n",
       "      <th>PoolArea</th>\n",
       "      <th>PoolQC</th>\n",
       "      <th>Fence</th>\n",
       "      <th>MiscFeature</th>\n",
       "      <th>MiscVal</th>\n",
       "      <th>MoSold</th>\n",
       "      <th>YrSold</th>\n",
       "      <th>SaleType</th>\n",
       "      <th>SaleCondition</th>\n",
       "      <th>SalePrice</th>\n",
       "    </tr>\n",
       "  </thead>\n",
       "  <tbody>\n",
       "    <tr>\n",
       "      <th>0</th>\n",
       "      <td>1</td>\n",
       "      <td>60</td>\n",
       "      <td>RL</td>\n",
       "      <td>65.0</td>\n",
       "      <td>8450</td>\n",
       "      <td>Pave</td>\n",
       "      <td>NaN</td>\n",
       "      <td>Reg</td>\n",
       "      <td>Lvl</td>\n",
       "      <td>AllPub</td>\n",
       "      <td>...</td>\n",
       "      <td>0</td>\n",
       "      <td>NaN</td>\n",
       "      <td>NaN</td>\n",
       "      <td>NaN</td>\n",
       "      <td>0</td>\n",
       "      <td>2</td>\n",
       "      <td>2008</td>\n",
       "      <td>WD</td>\n",
       "      <td>Normal</td>\n",
       "      <td>208500</td>\n",
       "    </tr>\n",
       "    <tr>\n",
       "      <th>1</th>\n",
       "      <td>2</td>\n",
       "      <td>20</td>\n",
       "      <td>RL</td>\n",
       "      <td>80.0</td>\n",
       "      <td>9600</td>\n",
       "      <td>Pave</td>\n",
       "      <td>NaN</td>\n",
       "      <td>Reg</td>\n",
       "      <td>Lvl</td>\n",
       "      <td>AllPub</td>\n",
       "      <td>...</td>\n",
       "      <td>0</td>\n",
       "      <td>NaN</td>\n",
       "      <td>NaN</td>\n",
       "      <td>NaN</td>\n",
       "      <td>0</td>\n",
       "      <td>5</td>\n",
       "      <td>2007</td>\n",
       "      <td>WD</td>\n",
       "      <td>Normal</td>\n",
       "      <td>181500</td>\n",
       "    </tr>\n",
       "    <tr>\n",
       "      <th>2</th>\n",
       "      <td>3</td>\n",
       "      <td>60</td>\n",
       "      <td>RL</td>\n",
       "      <td>68.0</td>\n",
       "      <td>11250</td>\n",
       "      <td>Pave</td>\n",
       "      <td>NaN</td>\n",
       "      <td>IR1</td>\n",
       "      <td>Lvl</td>\n",
       "      <td>AllPub</td>\n",
       "      <td>...</td>\n",
       "      <td>0</td>\n",
       "      <td>NaN</td>\n",
       "      <td>NaN</td>\n",
       "      <td>NaN</td>\n",
       "      <td>0</td>\n",
       "      <td>9</td>\n",
       "      <td>2008</td>\n",
       "      <td>WD</td>\n",
       "      <td>Normal</td>\n",
       "      <td>223500</td>\n",
       "    </tr>\n",
       "    <tr>\n",
       "      <th>3</th>\n",
       "      <td>4</td>\n",
       "      <td>70</td>\n",
       "      <td>RL</td>\n",
       "      <td>60.0</td>\n",
       "      <td>9550</td>\n",
       "      <td>Pave</td>\n",
       "      <td>NaN</td>\n",
       "      <td>IR1</td>\n",
       "      <td>Lvl</td>\n",
       "      <td>AllPub</td>\n",
       "      <td>...</td>\n",
       "      <td>0</td>\n",
       "      <td>NaN</td>\n",
       "      <td>NaN</td>\n",
       "      <td>NaN</td>\n",
       "      <td>0</td>\n",
       "      <td>2</td>\n",
       "      <td>2006</td>\n",
       "      <td>WD</td>\n",
       "      <td>Abnorml</td>\n",
       "      <td>140000</td>\n",
       "    </tr>\n",
       "    <tr>\n",
       "      <th>4</th>\n",
       "      <td>5</td>\n",
       "      <td>60</td>\n",
       "      <td>RL</td>\n",
       "      <td>84.0</td>\n",
       "      <td>14260</td>\n",
       "      <td>Pave</td>\n",
       "      <td>NaN</td>\n",
       "      <td>IR1</td>\n",
       "      <td>Lvl</td>\n",
       "      <td>AllPub</td>\n",
       "      <td>...</td>\n",
       "      <td>0</td>\n",
       "      <td>NaN</td>\n",
       "      <td>NaN</td>\n",
       "      <td>NaN</td>\n",
       "      <td>0</td>\n",
       "      <td>12</td>\n",
       "      <td>2008</td>\n",
       "      <td>WD</td>\n",
       "      <td>Normal</td>\n",
       "      <td>250000</td>\n",
       "    </tr>\n",
       "  </tbody>\n",
       "</table>\n",
       "<p>5 rows × 81 columns</p>\n",
       "</div>"
      ],
      "text/plain": [
       "   Id  MSSubClass MSZoning  LotFrontage  LotArea Street Alley LotShape  \\\n",
       "0   1          60       RL         65.0     8450   Pave   NaN      Reg   \n",
       "1   2          20       RL         80.0     9600   Pave   NaN      Reg   \n",
       "2   3          60       RL         68.0    11250   Pave   NaN      IR1   \n",
       "3   4          70       RL         60.0     9550   Pave   NaN      IR1   \n",
       "4   5          60       RL         84.0    14260   Pave   NaN      IR1   \n",
       "\n",
       "  LandContour Utilities  ... PoolArea PoolQC Fence MiscFeature MiscVal MoSold  \\\n",
       "0         Lvl    AllPub  ...        0    NaN   NaN         NaN       0      2   \n",
       "1         Lvl    AllPub  ...        0    NaN   NaN         NaN       0      5   \n",
       "2         Lvl    AllPub  ...        0    NaN   NaN         NaN       0      9   \n",
       "3         Lvl    AllPub  ...        0    NaN   NaN         NaN       0      2   \n",
       "4         Lvl    AllPub  ...        0    NaN   NaN         NaN       0     12   \n",
       "\n",
       "  YrSold  SaleType  SaleCondition  SalePrice  \n",
       "0   2008        WD         Normal     208500  \n",
       "1   2007        WD         Normal     181500  \n",
       "2   2008        WD         Normal     223500  \n",
       "3   2006        WD        Abnorml     140000  \n",
       "4   2008        WD         Normal     250000  \n",
       "\n",
       "[5 rows x 81 columns]"
      ]
     },
     "execution_count": 282,
     "metadata": {},
     "output_type": "execute_result"
    }
   ],
   "source": [
    "df_train.head()"
   ]
  },
  {
   "cell_type": "code",
   "execution_count": 283,
   "id": "bbca547e",
   "metadata": {},
   "outputs": [
    {
     "data": {
      "text/plain": [
       "Index(['Id', 'MSSubClass', 'MSZoning', 'LotFrontage', 'LotArea', 'Street',\n",
       "       'Alley', 'LotShape', 'LandContour', 'Utilities', 'LotConfig',\n",
       "       'LandSlope', 'Neighborhood', 'Condition1', 'Condition2', 'BldgType',\n",
       "       'HouseStyle', 'OverallQual', 'OverallCond', 'YearBuilt', 'YearRemodAdd',\n",
       "       'RoofStyle', 'RoofMatl', 'Exterior1st', 'Exterior2nd', 'MasVnrType',\n",
       "       'MasVnrArea', 'ExterQual', 'ExterCond', 'Foundation', 'BsmtQual',\n",
       "       'BsmtCond', 'BsmtExposure', 'BsmtFinType1', 'BsmtFinSF1',\n",
       "       'BsmtFinType2', 'BsmtFinSF2', 'BsmtUnfSF', 'TotalBsmtSF', 'Heating',\n",
       "       'HeatingQC', 'CentralAir', 'Electrical', '1stFlrSF', '2ndFlrSF',\n",
       "       'LowQualFinSF', 'GrLivArea', 'BsmtFullBath', 'BsmtHalfBath', 'FullBath',\n",
       "       'HalfBath', 'BedroomAbvGr', 'KitchenAbvGr', 'KitchenQual',\n",
       "       'TotRmsAbvGrd', 'Functional', 'Fireplaces', 'FireplaceQu', 'GarageType',\n",
       "       'GarageYrBlt', 'GarageFinish', 'GarageCars', 'GarageArea', 'GarageQual',\n",
       "       'GarageCond', 'PavedDrive', 'WoodDeckSF', 'OpenPorchSF',\n",
       "       'EnclosedPorch', '3SsnPorch', 'ScreenPorch', 'PoolArea', 'PoolQC',\n",
       "       'Fence', 'MiscFeature', 'MiscVal', 'MoSold', 'YrSold', 'SaleType',\n",
       "       'SaleCondition', 'SalePrice'],\n",
       "      dtype='object')"
      ]
     },
     "execution_count": 283,
     "metadata": {},
     "output_type": "execute_result"
    }
   ],
   "source": [
    "df_train.columns"
   ]
  },
  {
   "cell_type": "markdown",
   "id": "1b9bb817",
   "metadata": {},
   "source": [
    "### Let's find out the correlations of each column and the sale price"
   ]
  },
  {
   "cell_type": "code",
   "execution_count": 284,
   "id": "d729a2dc",
   "metadata": {},
   "outputs": [
    {
     "name": "stdout",
     "output_type": "stream",
     "text": [
      "SalePrice        1.000000\n",
      "OverallQual      0.790982\n",
      "GrLivArea        0.708624\n",
      "GarageCars       0.640409\n",
      "GarageArea       0.623431\n",
      "TotalBsmtSF      0.613581\n",
      "1stFlrSF         0.605852\n",
      "FullBath         0.560664\n",
      "TotRmsAbvGrd     0.533723\n",
      "YearBuilt        0.522897\n",
      "YearRemodAdd     0.507101\n",
      "GarageYrBlt      0.486362\n",
      "MasVnrArea       0.477493\n",
      "Fireplaces       0.466929\n",
      "BsmtFinSF1       0.386420\n",
      "LotFrontage      0.351799\n",
      "WoodDeckSF       0.324413\n",
      "2ndFlrSF         0.319334\n",
      "OpenPorchSF      0.315856\n",
      "HalfBath         0.284108\n",
      "LotArea          0.263843\n",
      "BsmtFullBath     0.227122\n",
      "BsmtUnfSF        0.214479\n",
      "BedroomAbvGr     0.168213\n",
      "ScreenPorch      0.111447\n",
      "PoolArea         0.092404\n",
      "MoSold           0.046432\n",
      "3SsnPorch        0.044584\n",
      "BsmtFinSF2      -0.011378\n",
      "BsmtHalfBath    -0.016844\n",
      "MiscVal         -0.021190\n",
      "Id              -0.021917\n",
      "LowQualFinSF    -0.025606\n",
      "YrSold          -0.028923\n",
      "OverallCond     -0.077856\n",
      "MSSubClass      -0.084284\n",
      "EnclosedPorch   -0.128578\n",
      "KitchenAbvGr    -0.135907\n",
      "Name: SalePrice, dtype: float64\n"
     ]
    }
   ],
   "source": [
    "correlations = df_train.corr()['SalePrice']\n",
    "\n",
    "print(correlations.sort_values(ascending=False))"
   ]
  },
  {
   "cell_type": "markdown",
   "id": "1bd1e31c",
   "metadata": {},
   "source": [
    "The column OverallQual has the strongest correlation. So let's choose it for the simple linear regression"
   ]
  },
  {
   "cell_type": "code",
   "execution_count": 285,
   "id": "d6a9cbc7",
   "metadata": {},
   "outputs": [],
   "source": [
    "columns = [\"OverallQual\", \"SalePrice\"]"
   ]
  },
  {
   "cell_type": "code",
   "execution_count": 286,
   "id": "bc11f520",
   "metadata": {},
   "outputs": [
    {
     "data": {
      "text/html": [
       "<div>\n",
       "<style scoped>\n",
       "    .dataframe tbody tr th:only-of-type {\n",
       "        vertical-align: middle;\n",
       "    }\n",
       "\n",
       "    .dataframe tbody tr th {\n",
       "        vertical-align: top;\n",
       "    }\n",
       "\n",
       "    .dataframe thead th {\n",
       "        text-align: right;\n",
       "    }\n",
       "</style>\n",
       "<table border=\"1\" class=\"dataframe\">\n",
       "  <thead>\n",
       "    <tr style=\"text-align: right;\">\n",
       "      <th></th>\n",
       "      <th>OverallQual</th>\n",
       "      <th>SalePrice</th>\n",
       "    </tr>\n",
       "  </thead>\n",
       "  <tbody>\n",
       "    <tr>\n",
       "      <th>0</th>\n",
       "      <td>7</td>\n",
       "      <td>208500</td>\n",
       "    </tr>\n",
       "    <tr>\n",
       "      <th>1</th>\n",
       "      <td>6</td>\n",
       "      <td>181500</td>\n",
       "    </tr>\n",
       "    <tr>\n",
       "      <th>2</th>\n",
       "      <td>7</td>\n",
       "      <td>223500</td>\n",
       "    </tr>\n",
       "    <tr>\n",
       "      <th>3</th>\n",
       "      <td>7</td>\n",
       "      <td>140000</td>\n",
       "    </tr>\n",
       "    <tr>\n",
       "      <th>4</th>\n",
       "      <td>8</td>\n",
       "      <td>250000</td>\n",
       "    </tr>\n",
       "    <tr>\n",
       "      <th>...</th>\n",
       "      <td>...</td>\n",
       "      <td>...</td>\n",
       "    </tr>\n",
       "    <tr>\n",
       "      <th>1455</th>\n",
       "      <td>6</td>\n",
       "      <td>175000</td>\n",
       "    </tr>\n",
       "    <tr>\n",
       "      <th>1456</th>\n",
       "      <td>6</td>\n",
       "      <td>210000</td>\n",
       "    </tr>\n",
       "    <tr>\n",
       "      <th>1457</th>\n",
       "      <td>7</td>\n",
       "      <td>266500</td>\n",
       "    </tr>\n",
       "    <tr>\n",
       "      <th>1458</th>\n",
       "      <td>5</td>\n",
       "      <td>142125</td>\n",
       "    </tr>\n",
       "    <tr>\n",
       "      <th>1459</th>\n",
       "      <td>5</td>\n",
       "      <td>147500</td>\n",
       "    </tr>\n",
       "  </tbody>\n",
       "</table>\n",
       "<p>1460 rows × 2 columns</p>\n",
       "</div>"
      ],
      "text/plain": [
       "      OverallQual  SalePrice\n",
       "0               7     208500\n",
       "1               6     181500\n",
       "2               7     223500\n",
       "3               7     140000\n",
       "4               8     250000\n",
       "...           ...        ...\n",
       "1455            6     175000\n",
       "1456            6     210000\n",
       "1457            7     266500\n",
       "1458            5     142125\n",
       "1459            5     147500\n",
       "\n",
       "[1460 rows x 2 columns]"
      ]
     },
     "execution_count": 286,
     "metadata": {},
     "output_type": "execute_result"
    }
   ],
   "source": [
    "df_train[columns]"
   ]
  },
  {
   "cell_type": "markdown",
   "id": "56653735",
   "metadata": {},
   "source": [
    "3. Creating Data Frames"
   ]
  },
  {
   "cell_type": "code",
   "execution_count": 287,
   "id": "865d7521",
   "metadata": {},
   "outputs": [],
   "source": [
    "# Creating Data Frames\n",
    "X = df_train[['OverallQual']]  # select the 'overallQual' column as the feature\n",
    "y = df_train['SalePrice']  # select the 'salePrice' column as the target"
   ]
  },
  {
   "cell_type": "markdown",
   "id": "43847f34",
   "metadata": {},
   "source": [
    "4. Dataset Splition"
   ]
  },
  {
   "cell_type": "code",
   "execution_count": 288,
   "id": "72db77a8",
   "metadata": {},
   "outputs": [],
   "source": [
    "from sklearn.model_selection import train_test_split\n",
    "X_train, X_test, y_train, y_test = train_test_split(X,y,test_size= 1/3, random_state = 0) "
   ]
  },
  {
   "cell_type": "markdown",
   "id": "beb7096a",
   "metadata": {},
   "source": [
    "5. Modelling"
   ]
  },
  {
   "cell_type": "code",
   "execution_count": 289,
   "id": "4fb416ec",
   "metadata": {},
   "outputs": [
    {
     "data": {
      "text/plain": [
       "LinearRegression()"
      ]
     },
     "execution_count": 289,
     "metadata": {},
     "output_type": "execute_result"
    }
   ],
   "source": [
    "from sklearn.linear_model import LinearRegression\n",
    "linear_regressor = LinearRegression()\n",
    "linear_regressor.fit(X_train, y_train)"
   ]
  },
  {
   "cell_type": "code",
   "execution_count": 290,
   "id": "915ccc1c",
   "metadata": {},
   "outputs": [],
   "source": [
    "X_test = df_test[[\"OverallQual\"]]"
   ]
  },
  {
   "cell_type": "markdown",
   "id": "1a039730",
   "metadata": {},
   "source": [
    "6. Predictions"
   ]
  },
  {
   "cell_type": "code",
   "execution_count": 291,
   "id": "8b8df441",
   "metadata": {},
   "outputs": [],
   "source": [
    "# Predicting the Test set results\n",
    "y_pred = linear_regressor.predict(X_test)"
   ]
  },
  {
   "cell_type": "code",
   "execution_count": 292,
   "id": "4c375b22",
   "metadata": {},
   "outputs": [
    {
     "data": {
      "text/plain": [
       "array([131869.91901518, 177290.32109094, 131869.91901518, ...,\n",
       "       131869.91901518, 131869.91901518, 222710.7231667 ])"
      ]
     },
     "execution_count": 292,
     "metadata": {},
     "output_type": "execute_result"
    }
   ],
   "source": [
    "y_pred"
   ]
  },
  {
   "cell_type": "code",
   "execution_count": 293,
   "id": "6dc97529",
   "metadata": {},
   "outputs": [],
   "source": [
    "# Create a new dataframe with the predicted 'salePrice' values and their corresponding 'ID' values\n",
    "df_predictions = pd.DataFrame({'Id': df_test['Id'], 'SalePrice': y_pred})\n",
    "\n",
    "# Export the dataframe to a CSV file\n",
    "df_predictions.to_csv('predictions_simple_linear_regression.csv', index=False)"
   ]
  },
  {
   "cell_type": "markdown",
   "id": "29071605",
   "metadata": {},
   "source": [
    "### Using the multiple linear regression technique"
   ]
  },
  {
   "cell_type": "markdown",
   "id": "ad18ad43",
   "metadata": {},
   "source": [
    "In this model, I will choose the columns that have the correlation scores of at least 0.5"
   ]
  },
  {
   "cell_type": "code",
   "execution_count": 294,
   "id": "29b3b1d4",
   "metadata": {},
   "outputs": [],
   "source": [
    "columns_mlr = [\"OverallQual\", \"GrLivArea\", \"GarageCars\", \"TotalBsmtSF\", \"1stFlrSF\", \"FullBath\", \"TotRmsAbvGrd\", \"YearBuilt\", \"YearRemodAdd\"]"
   ]
  },
  {
   "cell_type": "markdown",
   "id": "cd5dd651",
   "metadata": {},
   "source": [
    "Create Dataframe"
   ]
  },
  {
   "cell_type": "code",
   "execution_count": 303,
   "id": "9ca7ad25",
   "metadata": {},
   "outputs": [],
   "source": [
    "# Creating Data Frames\n",
    "X = df_train[columns_mlr]\n",
    "y = df_train[\"SalePrice\"]"
   ]
  },
  {
   "cell_type": "code",
   "execution_count": 304,
   "id": "4d56a7ce",
   "metadata": {},
   "outputs": [
    {
     "data": {
      "text/html": [
       "<div>\n",
       "<style scoped>\n",
       "    .dataframe tbody tr th:only-of-type {\n",
       "        vertical-align: middle;\n",
       "    }\n",
       "\n",
       "    .dataframe tbody tr th {\n",
       "        vertical-align: top;\n",
       "    }\n",
       "\n",
       "    .dataframe thead th {\n",
       "        text-align: right;\n",
       "    }\n",
       "</style>\n",
       "<table border=\"1\" class=\"dataframe\">\n",
       "  <thead>\n",
       "    <tr style=\"text-align: right;\">\n",
       "      <th></th>\n",
       "      <th>OverallQual</th>\n",
       "      <th>GrLivArea</th>\n",
       "      <th>GarageCars</th>\n",
       "      <th>TotalBsmtSF</th>\n",
       "      <th>1stFlrSF</th>\n",
       "      <th>FullBath</th>\n",
       "      <th>TotRmsAbvGrd</th>\n",
       "      <th>YearBuilt</th>\n",
       "      <th>YearRemodAdd</th>\n",
       "    </tr>\n",
       "  </thead>\n",
       "  <tbody>\n",
       "    <tr>\n",
       "      <th>0</th>\n",
       "      <td>7</td>\n",
       "      <td>1710</td>\n",
       "      <td>2</td>\n",
       "      <td>856</td>\n",
       "      <td>856</td>\n",
       "      <td>2</td>\n",
       "      <td>8</td>\n",
       "      <td>2003</td>\n",
       "      <td>2003</td>\n",
       "    </tr>\n",
       "    <tr>\n",
       "      <th>1</th>\n",
       "      <td>6</td>\n",
       "      <td>1262</td>\n",
       "      <td>2</td>\n",
       "      <td>1262</td>\n",
       "      <td>1262</td>\n",
       "      <td>2</td>\n",
       "      <td>6</td>\n",
       "      <td>1976</td>\n",
       "      <td>1976</td>\n",
       "    </tr>\n",
       "    <tr>\n",
       "      <th>2</th>\n",
       "      <td>7</td>\n",
       "      <td>1786</td>\n",
       "      <td>2</td>\n",
       "      <td>920</td>\n",
       "      <td>920</td>\n",
       "      <td>2</td>\n",
       "      <td>6</td>\n",
       "      <td>2001</td>\n",
       "      <td>2002</td>\n",
       "    </tr>\n",
       "    <tr>\n",
       "      <th>3</th>\n",
       "      <td>7</td>\n",
       "      <td>1717</td>\n",
       "      <td>3</td>\n",
       "      <td>756</td>\n",
       "      <td>961</td>\n",
       "      <td>1</td>\n",
       "      <td>7</td>\n",
       "      <td>1915</td>\n",
       "      <td>1970</td>\n",
       "    </tr>\n",
       "    <tr>\n",
       "      <th>4</th>\n",
       "      <td>8</td>\n",
       "      <td>2198</td>\n",
       "      <td>3</td>\n",
       "      <td>1145</td>\n",
       "      <td>1145</td>\n",
       "      <td>2</td>\n",
       "      <td>9</td>\n",
       "      <td>2000</td>\n",
       "      <td>2000</td>\n",
       "    </tr>\n",
       "    <tr>\n",
       "      <th>...</th>\n",
       "      <td>...</td>\n",
       "      <td>...</td>\n",
       "      <td>...</td>\n",
       "      <td>...</td>\n",
       "      <td>...</td>\n",
       "      <td>...</td>\n",
       "      <td>...</td>\n",
       "      <td>...</td>\n",
       "      <td>...</td>\n",
       "    </tr>\n",
       "    <tr>\n",
       "      <th>1455</th>\n",
       "      <td>6</td>\n",
       "      <td>1647</td>\n",
       "      <td>2</td>\n",
       "      <td>953</td>\n",
       "      <td>953</td>\n",
       "      <td>2</td>\n",
       "      <td>7</td>\n",
       "      <td>1999</td>\n",
       "      <td>2000</td>\n",
       "    </tr>\n",
       "    <tr>\n",
       "      <th>1456</th>\n",
       "      <td>6</td>\n",
       "      <td>2073</td>\n",
       "      <td>2</td>\n",
       "      <td>1542</td>\n",
       "      <td>2073</td>\n",
       "      <td>2</td>\n",
       "      <td>7</td>\n",
       "      <td>1978</td>\n",
       "      <td>1988</td>\n",
       "    </tr>\n",
       "    <tr>\n",
       "      <th>1457</th>\n",
       "      <td>7</td>\n",
       "      <td>2340</td>\n",
       "      <td>1</td>\n",
       "      <td>1152</td>\n",
       "      <td>1188</td>\n",
       "      <td>2</td>\n",
       "      <td>9</td>\n",
       "      <td>1941</td>\n",
       "      <td>2006</td>\n",
       "    </tr>\n",
       "    <tr>\n",
       "      <th>1458</th>\n",
       "      <td>5</td>\n",
       "      <td>1078</td>\n",
       "      <td>1</td>\n",
       "      <td>1078</td>\n",
       "      <td>1078</td>\n",
       "      <td>1</td>\n",
       "      <td>5</td>\n",
       "      <td>1950</td>\n",
       "      <td>1996</td>\n",
       "    </tr>\n",
       "    <tr>\n",
       "      <th>1459</th>\n",
       "      <td>5</td>\n",
       "      <td>1256</td>\n",
       "      <td>1</td>\n",
       "      <td>1256</td>\n",
       "      <td>1256</td>\n",
       "      <td>1</td>\n",
       "      <td>6</td>\n",
       "      <td>1965</td>\n",
       "      <td>1965</td>\n",
       "    </tr>\n",
       "  </tbody>\n",
       "</table>\n",
       "<p>1460 rows × 9 columns</p>\n",
       "</div>"
      ],
      "text/plain": [
       "      OverallQual  GrLivArea  GarageCars  TotalBsmtSF  1stFlrSF  FullBath  \\\n",
       "0               7       1710           2          856       856         2   \n",
       "1               6       1262           2         1262      1262         2   \n",
       "2               7       1786           2          920       920         2   \n",
       "3               7       1717           3          756       961         1   \n",
       "4               8       2198           3         1145      1145         2   \n",
       "...           ...        ...         ...          ...       ...       ...   \n",
       "1455            6       1647           2          953       953         2   \n",
       "1456            6       2073           2         1542      2073         2   \n",
       "1457            7       2340           1         1152      1188         2   \n",
       "1458            5       1078           1         1078      1078         1   \n",
       "1459            5       1256           1         1256      1256         1   \n",
       "\n",
       "      TotRmsAbvGrd  YearBuilt  YearRemodAdd  \n",
       "0                8       2003          2003  \n",
       "1                6       1976          1976  \n",
       "2                6       2001          2002  \n",
       "3                7       1915          1970  \n",
       "4                9       2000          2000  \n",
       "...            ...        ...           ...  \n",
       "1455             7       1999          2000  \n",
       "1456             7       1978          1988  \n",
       "1457             9       1941          2006  \n",
       "1458             5       1950          1996  \n",
       "1459             6       1965          1965  \n",
       "\n",
       "[1460 rows x 9 columns]"
      ]
     },
     "execution_count": 304,
     "metadata": {},
     "output_type": "execute_result"
    }
   ],
   "source": [
    "X"
   ]
  },
  {
   "cell_type": "markdown",
   "id": "f45cc786",
   "metadata": {},
   "source": [
    "Dataset Splition"
   ]
  },
  {
   "cell_type": "code",
   "execution_count": 305,
   "id": "315b11c2",
   "metadata": {},
   "outputs": [],
   "source": [
    "from sklearn.model_selection import train_test_split\n",
    "X_train, X_test, y_train, y_test = train_test_split(X,y,test_size= 1/3, random_state = 0) "
   ]
  },
  {
   "cell_type": "markdown",
   "id": "da97cefd",
   "metadata": {},
   "source": [
    "### Modelling"
   ]
  },
  {
   "cell_type": "code",
   "execution_count": 306,
   "id": "0ab2c27a",
   "metadata": {},
   "outputs": [
    {
     "data": {
      "text/plain": [
       "LinearRegression()"
      ]
     },
     "execution_count": 306,
     "metadata": {},
     "output_type": "execute_result"
    }
   ],
   "source": [
    "from sklearn.linear_model import LinearRegression\n",
    "linear_regressor = LinearRegression()\n",
    "linear_regressor.fit(X_train, y_train)"
   ]
  },
  {
   "cell_type": "markdown",
   "id": "7c37c640",
   "metadata": {},
   "source": [
    "### predictions"
   ]
  },
  {
   "cell_type": "code",
   "execution_count": 307,
   "id": "1e934a84",
   "metadata": {},
   "outputs": [],
   "source": [
    "# Predicting the Test set results\n",
    "y_pred = linear_regressor.predict(X_test)"
   ]
  },
  {
   "cell_type": "code",
   "execution_count": 308,
   "id": "d8edeb66",
   "metadata": {},
   "outputs": [
    {
     "data": {
      "text/plain": [
       "array([269353.69799229, 150864.43264208, 110227.57571862, 228138.25180835,\n",
       "       121104.44650826, 114507.10407447, 256952.47515824, 133443.08617777,\n",
       "       497931.5144567 , 163853.27637544, 215310.03781218, 194072.65729372,\n",
       "       230371.24280942, 104732.55701113, 132955.54383101, 144046.5046626 ,\n",
       "       217194.39699436, 102383.19043716, 151285.2429389 , 193436.80066438,\n",
       "       129330.73083328, 152919.96064663, 106998.24039506, 168722.9197766 ,\n",
       "       188779.29997905, 202261.88066278, 180740.51782477,  51581.1275631 ,\n",
       "       297791.21635725, 111124.02991107, 198850.15715265, 208381.59760767,\n",
       "       143049.93038024, 280614.96983865, 317309.2110996 , 186898.83299982,\n",
       "       271570.68312453, 119187.32835865, 237069.44942864, 306016.52185582,\n",
       "       233559.77269168, 129266.52495441, 209380.31668877, 293230.45234587,\n",
       "       328534.3314539 , 179108.93817707, 115552.17054598, 111103.3559348 ,\n",
       "       180234.07504495,  68132.73270153, 347342.19443383, 134480.70567458,\n",
       "       178069.68586518,  53161.06805183, 231900.04164435, 122566.69131284,\n",
       "       112225.02719536, 249080.11984045, 138993.61345959,  84289.13114327,\n",
       "       145684.25264446, 114909.6065051 , 141555.45987698, 142182.97636392,\n",
       "       216057.60065537, 190215.7953736 , 116423.44893376, 214302.96187908,\n",
       "       111318.21323775, 212673.36620945, 190154.95149064, 109258.42632049,\n",
       "        50273.63644845, 239267.0322906 ,  79699.67568526, 274875.1371427 ,\n",
       "       111045.23650079,  89841.06141807, 281159.40980949, 162151.96908835,\n",
       "       130180.20780552, 116337.43219455, 117517.91460772, 143679.12154778,\n",
       "       237400.24047654, 211042.58307908,  82321.67593508, 215755.74688155,\n",
       "       183510.18398456, 138014.16425803, 186822.68881655, 167616.4214935 ,\n",
       "       169850.50454712, 222310.0904213 , 216484.51602317, 157332.47036905,\n",
       "       226359.59238037, 164108.99845585,  98199.09196287, 152751.54230693,\n",
       "       253211.44910953, 184354.52971219, 119278.87341505, 163959.08913045,\n",
       "       113311.54934238, 283746.84907365, 157326.71844474,  79177.94423853,\n",
       "       177925.5080665 , 126440.81366733,  72147.04102049,  98559.53666965,\n",
       "       193992.47186805, 113436.91259674, 187353.12322905, 165832.69221477,\n",
       "       385892.39094802, 118813.45302789, 192925.90883754, 267766.52538874,\n",
       "       170816.94318742, 188844.38867932, 123871.42184884, 208836.16752869,\n",
       "       235032.97977352, 228454.97459623, 341580.07174887, 209427.36415061,\n",
       "       213537.83464979, 186215.96849925, 230628.32916514, 214952.88161271,\n",
       "       168531.03699754, 190398.80279089,  86516.0633942 , 242836.50741203,\n",
       "       133615.27783793, 210837.31525051,  95073.21511021, 177312.22650891,\n",
       "       154144.78422878, 142573.09693828, 246344.74738941, 138485.91377354,\n",
       "       145710.69005602, 169128.04716664, 255880.49539708, 131516.98431327,\n",
       "       291607.1298633 , 224872.39127176, 178879.31722568, 308376.83366441,\n",
       "       297164.89687893, 168999.50436812, 191098.09537836, 273413.77069594,\n",
       "       117179.22824998, 187121.5106973 , 140617.41191975, 176555.52511045,\n",
       "        99431.8286936 , 143034.20217074, 202264.61884582, 107622.08548145,\n",
       "       266624.94909911, 116734.8155021 , 147077.0970023 , 276234.16835991,\n",
       "       213830.59864041, 194134.16889301, 182466.48905054, 165969.32806259,\n",
       "       191678.5125475 , 162664.0447503 , 120423.71499011, 110848.62395903,\n",
       "       134751.93515779, 266833.64222094, 112736.95793638, 164444.36079694,\n",
       "       289924.48167343, 197570.57604345, 119921.87963949, 281138.44084105,\n",
       "        83891.04287085, 182457.61553815, 112944.11529518, 199890.01030773,\n",
       "       245043.37041563, 153567.64192868, 143679.12154778, 171131.27034597,\n",
       "       231207.20613277, 135256.95144241, 117668.20276192, 156183.43279739,\n",
       "        63264.15613176, 126843.3579409 , 178790.34153005, 142033.68834488,\n",
       "       139283.31369322, 209700.95875836,  81738.84486932, 106681.92289568,\n",
       "       131978.00803757, 250680.13305985, 158815.20515671, 310047.29165023,\n",
       "       285308.40083508,  34618.36575219, 161598.88553598, 255490.81314582,\n",
       "        45755.74241782,  65025.79751114, 319532.81816316, 229766.52665274,\n",
       "       202839.06728153, 292523.33488465, 275226.98382465,  52751.23846046,\n",
       "       208728.6503686 , 188277.44041559, 151545.01774832, 105616.04826487,\n",
       "       225593.13462606, 249768.30374744, 266597.22437585, 228542.93716563,\n",
       "       137378.41741725, 190253.15770568,  45461.75113653, 155274.06057992,\n",
       "        75418.09027422, 146278.52083291, 220165.05410167, 136908.19974162,\n",
       "       141579.390955  , 105869.69443306,  51612.06800927, 182746.62842586,\n",
       "       110928.41008145, 189343.37963815, 218637.62276554, 218888.15200351,\n",
       "       169448.49730335, 202354.98010038, 226561.50386211, 201345.07895945,\n",
       "       112885.38308997, 218563.23035998, 185436.07278126, 266864.97250293,\n",
       "        73477.72523115, 367341.56815268, 229647.28777074, 263694.55904086,\n",
       "        88694.16740082, 243229.85105457, 359642.10850221, 716196.12150539,\n",
       "       234551.90597196, 104889.12099839, 149215.26186447,  50029.48512891,\n",
       "       356680.10391041, 306451.33901973, 326342.2587305 ,  32614.25153068,\n",
       "       213714.28938437, 280383.40349727, 129189.33232069, 226608.16523784,\n",
       "       138337.29610966, 203310.95082263, 166205.89292905, 238707.4208135 ,\n",
       "       221872.55401541, 187411.11973018, 225928.20004431,  86908.91590077,\n",
       "       120446.16270873, 325618.65723807, 140822.33326709, 136752.75512289,\n",
       "       208045.36283101, 227929.65766172, 135190.19585631, 272419.12933687,\n",
       "       409466.57755028, 195679.64050286,  35130.88025994,  97550.46253773,\n",
       "       310308.67040391, 102912.57965324, 120034.7908602 , 272694.90845934,\n",
       "       243246.74886913, 199749.97064439, 162390.7414064 , 185082.9043739 ,\n",
       "        78873.15751763, 136687.62593518, 204021.02406319, 197196.45573321,\n",
       "       188875.69075102, 178061.75196509, 140286.9640695 , 178220.16387238,\n",
       "       192309.58008787, 190263.91520234,  91487.50494025, 158943.61530754,\n",
       "       183557.4553302 , 108504.61733574, 129015.51718624, 153567.64192868,\n",
       "       300534.22667561, 112185.72790416, 218527.5368474 , 182971.97451608,\n",
       "       127364.01453711, 256872.81446543, 116732.90629741, 268327.54118766,\n",
       "       136540.76494664, 232684.62603377, 127134.47112526, 311601.4974921 ,\n",
       "       209555.31740371, 127155.05910182, 114052.63899175, 236145.09093766,\n",
       "       167274.92474685, 211179.84476118, 184820.67986245, 149284.9268728 ,\n",
       "       117373.09066308, 196777.66250897, 162165.86929229, 115101.6704773 ,\n",
       "       306607.22620225, 178141.86678112, 177732.3849494 , 226594.66679087,\n",
       "       173593.13147047, 136561.06397703,  96435.56207742,  90789.80176986,\n",
       "        84545.40392466, 130329.47239439, 216806.03767125, 333007.43015533,\n",
       "       102460.60938362,  72158.71731979, 193179.46711566, 355145.93402403,\n",
       "       305673.14495859, 140035.02083499, 260308.23045862, 233744.73919142,\n",
       "       307156.42574867, 184338.50906443, 229009.15488428, 266895.29596027,\n",
       "        62816.43520524, 169498.25736238, 175514.45958701, 105238.49008849,\n",
       "       179277.47397938, 182234.86680402, 372500.24085852,  97944.65686394,\n",
       "       163793.78900686, 129075.66944652, 169922.75857341,  43195.2961137 ,\n",
       "       205619.19425285, 261341.07967389, 105616.04826487, 255272.80852776,\n",
       "       160674.45979519,  97228.10433119, 140344.67242924, 136862.15831542,\n",
       "       111004.19477882,  68236.2723226 , 127494.48380719, 199843.74020967,\n",
       "       252597.19834479, 316532.98253492, 112030.61579551, 129000.27689973,\n",
       "       227444.19105029,  39952.63398004, 127364.86482683, 173209.59521721,\n",
       "       171965.62259504, 178436.81841697, 138850.72589513, 186197.03099818,\n",
       "       300279.56967222, 233788.24013601, 145686.26353976,  72578.20948838,\n",
       "       152265.13866374, 261099.27175604,  96024.64949708, 298422.45998122,\n",
       "       245795.79825837, 257614.10202022, 141863.93683282, 120122.36149252,\n",
       "       214771.57357073, 142355.20485884, 163169.94302013, 109108.30055197,\n",
       "       220027.76227091, 124301.47205135, 267582.05348901, 140800.95161415,\n",
       "       275219.29338569, 321553.57940976,  83421.16564911, 162518.6704974 ,\n",
       "       142462.7574253 ,  87119.3829499 , 285139.49323536, 104214.56384606,\n",
       "       217103.41849818, 119983.56392525, 151712.6569231 , 208682.21988412,\n",
       "       165773.70687187, 210482.92727416, 203478.11674395, 316611.2003015 ,\n",
       "       235214.60318197, 365856.94493595, 236349.51515967, 193707.18675089,\n",
       "       100313.71589137, 119141.48751878, -17726.7136956 , 162058.2336603 ,\n",
       "        97631.54574205, 180599.55839283, 160502.97091157, 112347.33510331,\n",
       "       197252.26922502, 314434.09554254, 160401.95055916, 193666.47666396,\n",
       "       130754.78529102, 201869.53413813, 157086.45077966, 192370.92405791,\n",
       "        93129.42406001, 100082.26479319, 272088.70459467, 180011.34995537,\n",
       "       188994.51952999, 129614.35541495, 146241.6733369 , 103793.93831304,\n",
       "       242714.26882825, 121800.74980985, 221671.76113896, 135775.25130499,\n",
       "       214368.8972598 , 263725.54101679, 171234.10028106, 189799.82224751,\n",
       "       139109.52671666, 219286.29504337, 147244.73227166,  87345.42396462,\n",
       "       154414.85196969, 203131.5597538 , 262067.79215676, 205157.67427569,\n",
       "       118455.77829964, 195313.59609799, 242909.23827815, 144745.02863593,\n",
       "       122773.79238655, 211261.10320356, 264093.53422189])"
      ]
     },
     "execution_count": 308,
     "metadata": {},
     "output_type": "execute_result"
    }
   ],
   "source": [
    "y_pred"
   ]
  },
  {
   "cell_type": "markdown",
   "id": "d5c8bb39",
   "metadata": {},
   "source": [
    "### Performance Evaluations"
   ]
  },
  {
   "cell_type": "code",
   "execution_count": 309,
   "id": "4ca07dc3",
   "metadata": {},
   "outputs": [
    {
     "name": "stdout",
     "output_type": "stream",
     "text": [
      "23747.858663690746\n",
      "1824552491.7519958\n",
      "42714.78071759231\n"
     ]
    }
   ],
   "source": [
    "# Importing metrics library\n",
    "from sklearn import metrics\n",
    "# Evaluating the model and printing the results using MAE\n",
    "print(metrics.mean_absolute_error(y_test, y_pred))\n",
    "\n",
    "# Evaluating the model and printing the results using MSE\n",
    "print(metrics.mean_squared_error(y_test, y_pred))\n",
    "\n",
    "# Importing the math library\n",
    "import math\n",
    "\n",
    "# Evaluating the model and printing the results using RMSE\n",
    "print(np.sqrt(metrics.mean_squared_error(y_test, y_pred)))"
   ]
  },
  {
   "cell_type": "markdown",
   "id": "1e17976d",
   "metadata": {},
   "source": [
    "### Impoort the prediction for df test"
   ]
  },
  {
   "cell_type": "code",
   "execution_count": 310,
   "id": "4b901549",
   "metadata": {},
   "outputs": [],
   "source": [
    "df_test = pd.read_csv('test.csv')  "
   ]
  },
  {
   "cell_type": "code",
   "execution_count": 312,
   "id": "7d78be98",
   "metadata": {},
   "outputs": [
    {
     "name": "stderr",
     "output_type": "stream",
     "text": [
      "/var/folders/bs/qfl9ywrn26v4bm2ddlmj87yw0000gn/T/ipykernel_35806/2711002027.py:1: FutureWarning: Dropping of nuisance columns in DataFrame reductions (with 'numeric_only=None') is deprecated; in a future version this will raise TypeError.  Select only valid columns before calling the reduction.\n",
      "  input_test = df_test[columns_mlr].fillna(df_test.mean())\n"
     ]
    }
   ],
   "source": [
    "input_test = df_test[columns_mlr].fillna(df_test.mean())\n",
    "y_pred = linear_regressor.predict(input_test)"
   ]
  },
  {
   "cell_type": "code",
   "execution_count": 313,
   "id": "cc58798f",
   "metadata": {},
   "outputs": [
    {
     "data": {
      "text/plain": [
       "array([102114.59379348, 163487.29574013, 171530.40396392, ...,\n",
       "       157226.3894138 , 114354.81539259, 240281.438962  ])"
      ]
     },
     "execution_count": 313,
     "metadata": {},
     "output_type": "execute_result"
    }
   ],
   "source": [
    "y_pred"
   ]
  },
  {
   "cell_type": "code",
   "execution_count": 314,
   "id": "827206c2",
   "metadata": {},
   "outputs": [],
   "source": [
    "# Create a new dataframe with the predicted 'salePrice' values and their corresponding 'ID' values\n",
    "df_predictions = pd.DataFrame({'Id': df_test['Id'], 'SalePrice': y_pred})\n",
    "\n",
    "# Export the dataframe to a CSV file\n",
    "df_predictions.to_csv('predictions_mlp.csv', index=False)"
   ]
  },
  {
   "cell_type": "markdown",
   "id": "25a3aaab",
   "metadata": {},
   "source": [
    "## Polynomial Regression"
   ]
  },
  {
   "cell_type": "code",
   "execution_count": 315,
   "id": "1553866a",
   "metadata": {},
   "outputs": [],
   "source": [
    "# Importing the Libraries\n",
    "import numpy as np\n",
    "import pandas as pd\n",
    "import matplotlib.pyplot as plt"
   ]
  },
  {
   "cell_type": "markdown",
   "id": "98d2b855",
   "metadata": {},
   "source": [
    "Import the dataset"
   ]
  },
  {
   "cell_type": "code",
   "execution_count": 316,
   "id": "9980ca48",
   "metadata": {},
   "outputs": [],
   "source": [
    "df_train = pd.read_csv('train.csv')  \n",
    "df_test = pd.read_csv('test.csv')  "
   ]
  },
  {
   "cell_type": "markdown",
   "id": "a3432d5b",
   "metadata": {},
   "source": [
    "Create DataFrame"
   ]
  },
  {
   "cell_type": "code",
   "execution_count": 330,
   "id": "e911bf3a",
   "metadata": {},
   "outputs": [],
   "source": [
    "columns_poly = [\"OverallQual\"]"
   ]
  },
  {
   "cell_type": "code",
   "execution_count": 331,
   "id": "cfaa1fc9",
   "metadata": {},
   "outputs": [],
   "source": [
    "X = df_train[columns_poly]\n",
    "y = df_train[\"SalePrice\"]"
   ]
  },
  {
   "cell_type": "markdown",
   "id": "9e1dbcd0",
   "metadata": {},
   "source": [
    "#### Create Polynomial regressor"
   ]
  },
  {
   "cell_type": "code",
   "execution_count": 350,
   "id": "8c80953e",
   "metadata": {},
   "outputs": [],
   "source": [
    "from sklearn.preprocessing import PolynomialFeatures\n",
    "poly_reg = PolynomialFeatures(degree = 3)\n",
    "X_poly = poly_reg.fit_transform(X)"
   ]
  },
  {
   "cell_type": "markdown",
   "id": "d344a73e",
   "metadata": {},
   "source": [
    "#### Training the Polynomial Regression model on the whole dataset"
   ]
  },
  {
   "cell_type": "code",
   "execution_count": 351,
   "id": "90062c2a",
   "metadata": {},
   "outputs": [
    {
     "data": {
      "text/plain": [
       "LinearRegression()"
      ]
     },
     "execution_count": 351,
     "metadata": {},
     "output_type": "execute_result"
    }
   ],
   "source": [
    "#Training the Polynomial Regression model on the whole dataset\n",
    "from sklearn.linear_model import LinearRegression\n",
    "Poly_reg_model = LinearRegression()\n",
    "Poly_reg_model.fit(X_poly, y)"
   ]
  },
  {
   "cell_type": "code",
   "execution_count": 352,
   "id": "6c208f81",
   "metadata": {},
   "outputs": [
    {
     "data": {
      "text/plain": [
       "[<matplotlib.lines.Line2D at 0x7fe8d13920a0>]"
      ]
     },
     "execution_count": 352,
     "metadata": {},
     "output_type": "execute_result"
    },
    {
     "data": {
      "image/png": "[encoded data removed]",
      "text/plain": [
       "<Figure size 640x480 with 1 Axes>"
      ]
     },
     "metadata": {},
     "output_type": "display_data"
    }
   ],
   "source": [
    "# Visualising the Training set results\n",
    "plt.scatter(X, y, color = 'red')\n",
    "plt.title('Visualization of Training Data')\n",
    "plt.xlabel('Years of Research Experience')\n",
    "plt.ylabel('Stipend')\n",
    "plt.plot(X, Poly_reg_model.predict(X_poly), color = 'blue')"
   ]
  },
  {
   "cell_type": "code",
   "execution_count": 355,
   "id": "c66ea67f",
   "metadata": {},
   "outputs": [],
   "source": [
    "input_test = poly_reg.fit_transform(df_test[[\"OverallQual\"]])\n",
    "y_pred = Poly_reg_model.predict(input_test)"
   ]
  },
  {
   "cell_type": "markdown",
   "id": "a41fd2a4",
   "metadata": {},
   "source": [
    "### Export the results"
   ]
  },
  {
   "cell_type": "code",
   "execution_count": 356,
   "id": "e70a0673",
   "metadata": {},
   "outputs": [],
   "source": [
    "# Create a new dataframe with the predicted 'salePrice' values and their corresponding 'ID' values\n",
    "df_predictions = pd.DataFrame({'Id': df_test['Id'], 'SalePrice': y_pred})\n",
    "\n",
    "# Export the dataframe to a CSV file\n",
    "df_predictions.to_csv('predictions_poly_reg.csv', index=False)"
   ]
  },
  {
   "cell_type": "markdown",
   "id": "b0e58c4c",
   "metadata": {},
   "source": [
    "#### Now let's train the model using 3 input classes"
   ]
  },
  {
   "cell_type": "code",
   "execution_count": 369,
   "id": "77c09960",
   "metadata": {},
   "outputs": [],
   "source": [
    "columns_poly = [\"OverallQual\", \"GrLivArea\", \"GarageCars\"]"
   ]
  },
  {
   "cell_type": "code",
   "execution_count": 370,
   "id": "6eb70464",
   "metadata": {},
   "outputs": [],
   "source": [
    "X = df_train[columns_poly]\n",
    "y = df_train[\"SalePrice\"]"
   ]
  },
  {
   "cell_type": "code",
   "execution_count": 371,
   "id": "54fafaf3",
   "metadata": {},
   "outputs": [],
   "source": [
    "from sklearn.preprocessing import PolynomialFeatures\n",
    "poly_reg = PolynomialFeatures(degree = 3)\n",
    "X_poly = poly_reg.fit_transform(X)"
   ]
  },
  {
   "cell_type": "code",
   "execution_count": 372,
   "id": "6504c34b",
   "metadata": {},
   "outputs": [
    {
     "data": {
      "text/plain": [
       "LinearRegression()"
      ]
     },
     "execution_count": 372,
     "metadata": {},
     "output_type": "execute_result"
    }
   ],
   "source": [
    "#Training the Polynomial Regression model on the whole dataset\n",
    "from sklearn.linear_model import LinearRegression\n",
    "Poly_reg_model = LinearRegression()\n",
    "Poly_reg_model.fit(X_poly, y)"
   ]
  },
  {
   "cell_type": "code",
   "execution_count": 377,
   "id": "4bcf58d6",
   "metadata": {},
   "outputs": [
    {
     "name": "stderr",
     "output_type": "stream",
     "text": [
      "/var/folders/bs/qfl9ywrn26v4bm2ddlmj87yw0000gn/T/ipykernel_35806/3171186008.py:1: FutureWarning: Dropping of nuisance columns in DataFrame reductions (with 'numeric_only=None') is deprecated; in a future version this will raise TypeError.  Select only valid columns before calling the reduction.\n",
      "  input_test = poly_reg.fit_transform(df_test[columns_poly].fillna(df_test.mean()))\n"
     ]
    }
   ],
   "source": [
    "input_test = poly_reg.fit_transform(df_test[columns_poly].fillna(df_test.mean()))\n",
    "y_pred = Poly_reg_model.predict(input_test)"
   ]
  },
  {
   "cell_type": "markdown",
   "id": "73d37adc",
   "metadata": {},
   "source": [
    "#### Export the reults"
   ]
  },
  {
   "cell_type": "code",
   "execution_count": 378,
   "id": "f62f15ec",
   "metadata": {},
   "outputs": [],
   "source": [
    "# Create a new dataframe with the predicted 'salePrice' values and their corresponding 'ID' values\n",
    "df_predictions = pd.DataFrame({'Id': df_test['Id'], 'SalePrice': y_pred})\n",
    "\n",
    "# Export the dataframe to a CSV file\n",
    "df_predictions.to_csv('predictions_poly_reg_3_input_attributes.csv', index=False)"
   ]
  }
 ],
 "metadata": {
  "kernelspec": {
   "display_name": "Python 3 (ipykernel)",
   "language": "python",
   "name": "python3"
  },
  "language_info": {
   "codemirror_mode": {
    "name": "ipython",
    "version": 3
   },
   "file_extension": ".py",
   "mimetype": "text/x-python",
   "name": "python",
   "nbconvert_exporter": "python",
   "pygments_lexer": "ipython3",
   "version": "3.9.13"
  }
 },
 "nbformat": 4,
 "nbformat_minor": 5
}
